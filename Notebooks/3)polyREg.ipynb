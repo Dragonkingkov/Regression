{
 "cells": [
  {
   "cell_type": "code",
   "execution_count": 1,
   "id": "b7fd712d",
   "metadata": {},
   "outputs": [],
   "source": [
    "import numpy as np\n",
    "import pandas as pd\n",
    "import matplotlib.pyplot as plt\n",
    "import seaborn as sns"
   ]
  },
  {
   "cell_type": "code",
   "execution_count": 2,
   "id": "e28564c5",
   "metadata": {},
   "outputs": [],
   "source": [
    "df=pd.read_csv('cleaned_data.csv')"
   ]
  },
  {
   "cell_type": "code",
   "execution_count": 3,
   "id": "ed86e3b6",
   "metadata": {},
   "outputs": [
    {
     "data": {
      "text/plain": [
       "Index(['Unnamed: 0', 'TOEFL Score', 'University Rating', 'SOP', 'LOR', 'CGPA',\n",
       "       'Research', 'Chance of Admit'],\n",
       "      dtype='object')"
      ]
     },
     "execution_count": 3,
     "metadata": {},
     "output_type": "execute_result"
    }
   ],
   "source": [
    "df.columns"
   ]
  },
  {
   "cell_type": "code",
   "execution_count": 4,
   "id": "6612eaf8",
   "metadata": {},
   "outputs": [
    {
     "data": {
      "text/html": [
       "<div>\n",
       "<style scoped>\n",
       "    .dataframe tbody tr th:only-of-type {\n",
       "        vertical-align: middle;\n",
       "    }\n",
       "\n",
       "    .dataframe tbody tr th {\n",
       "        vertical-align: top;\n",
       "    }\n",
       "\n",
       "    .dataframe thead th {\n",
       "        text-align: right;\n",
       "    }\n",
       "</style>\n",
       "<table border=\"1\" class=\"dataframe\">\n",
       "  <thead>\n",
       "    <tr style=\"text-align: right;\">\n",
       "      <th></th>\n",
       "      <th>TOEFL Score</th>\n",
       "      <th>University Rating</th>\n",
       "      <th>SOP</th>\n",
       "      <th>LOR</th>\n",
       "      <th>CGPA</th>\n",
       "      <th>Research</th>\n",
       "      <th>Chance of Admit</th>\n",
       "    </tr>\n",
       "  </thead>\n",
       "  <tbody>\n",
       "    <tr>\n",
       "      <th>0</th>\n",
       "      <td>118</td>\n",
       "      <td>4</td>\n",
       "      <td>4.5</td>\n",
       "      <td>4.5</td>\n",
       "      <td>9.65</td>\n",
       "      <td>1</td>\n",
       "      <td>0.92</td>\n",
       "    </tr>\n",
       "    <tr>\n",
       "      <th>1</th>\n",
       "      <td>107</td>\n",
       "      <td>4</td>\n",
       "      <td>4.0</td>\n",
       "      <td>4.5</td>\n",
       "      <td>8.87</td>\n",
       "      <td>1</td>\n",
       "      <td>0.76</td>\n",
       "    </tr>\n",
       "    <tr>\n",
       "      <th>2</th>\n",
       "      <td>104</td>\n",
       "      <td>3</td>\n",
       "      <td>3.0</td>\n",
       "      <td>3.5</td>\n",
       "      <td>8.00</td>\n",
       "      <td>1</td>\n",
       "      <td>0.72</td>\n",
       "    </tr>\n",
       "    <tr>\n",
       "      <th>3</th>\n",
       "      <td>110</td>\n",
       "      <td>3</td>\n",
       "      <td>3.5</td>\n",
       "      <td>2.5</td>\n",
       "      <td>8.67</td>\n",
       "      <td>1</td>\n",
       "      <td>0.80</td>\n",
       "    </tr>\n",
       "    <tr>\n",
       "      <th>4</th>\n",
       "      <td>103</td>\n",
       "      <td>2</td>\n",
       "      <td>2.0</td>\n",
       "      <td>3.0</td>\n",
       "      <td>8.21</td>\n",
       "      <td>0</td>\n",
       "      <td>0.65</td>\n",
       "    </tr>\n",
       "    <tr>\n",
       "      <th>...</th>\n",
       "      <td>...</td>\n",
       "      <td>...</td>\n",
       "      <td>...</td>\n",
       "      <td>...</td>\n",
       "      <td>...</td>\n",
       "      <td>...</td>\n",
       "      <td>...</td>\n",
       "    </tr>\n",
       "    <tr>\n",
       "      <th>495</th>\n",
       "      <td>108</td>\n",
       "      <td>5</td>\n",
       "      <td>4.5</td>\n",
       "      <td>4.0</td>\n",
       "      <td>9.02</td>\n",
       "      <td>1</td>\n",
       "      <td>0.87</td>\n",
       "    </tr>\n",
       "    <tr>\n",
       "      <th>496</th>\n",
       "      <td>117</td>\n",
       "      <td>5</td>\n",
       "      <td>5.0</td>\n",
       "      <td>5.0</td>\n",
       "      <td>9.87</td>\n",
       "      <td>1</td>\n",
       "      <td>0.96</td>\n",
       "    </tr>\n",
       "    <tr>\n",
       "      <th>497</th>\n",
       "      <td>120</td>\n",
       "      <td>5</td>\n",
       "      <td>4.5</td>\n",
       "      <td>5.0</td>\n",
       "      <td>9.56</td>\n",
       "      <td>1</td>\n",
       "      <td>0.93</td>\n",
       "    </tr>\n",
       "    <tr>\n",
       "      <th>498</th>\n",
       "      <td>103</td>\n",
       "      <td>4</td>\n",
       "      <td>4.0</td>\n",
       "      <td>5.0</td>\n",
       "      <td>8.43</td>\n",
       "      <td>0</td>\n",
       "      <td>0.73</td>\n",
       "    </tr>\n",
       "    <tr>\n",
       "      <th>499</th>\n",
       "      <td>113</td>\n",
       "      <td>4</td>\n",
       "      <td>4.5</td>\n",
       "      <td>4.5</td>\n",
       "      <td>9.04</td>\n",
       "      <td>0</td>\n",
       "      <td>0.84</td>\n",
       "    </tr>\n",
       "  </tbody>\n",
       "</table>\n",
       "<p>500 rows × 7 columns</p>\n",
       "</div>"
      ],
      "text/plain": [
       "     TOEFL Score  University Rating  SOP  LOR  CGPA  Research  Chance of Admit\n",
       "0            118                  4  4.5  4.5  9.65         1             0.92\n",
       "1            107                  4  4.0  4.5  8.87         1             0.76\n",
       "2            104                  3  3.0  3.5  8.00         1             0.72\n",
       "3            110                  3  3.5  2.5  8.67         1             0.80\n",
       "4            103                  2  2.0  3.0  8.21         0             0.65\n",
       "..           ...                ...  ...  ...   ...       ...              ...\n",
       "495          108                  5  4.5  4.0  9.02         1             0.87\n",
       "496          117                  5  5.0  5.0  9.87         1             0.96\n",
       "497          120                  5  4.5  5.0  9.56         1             0.93\n",
       "498          103                  4  4.0  5.0  8.43         0             0.73\n",
       "499          113                  4  4.5  4.5  9.04         0             0.84\n",
       "\n",
       "[500 rows x 7 columns]"
      ]
     },
     "execution_count": 4,
     "metadata": {},
     "output_type": "execute_result"
    }
   ],
   "source": [
    "df.drop(columns='Unnamed: 0',inplace=True)\n",
    "df"
   ]
  },
  {
   "cell_type": "markdown",
   "id": "9bbc215b",
   "metadata": {},
   "source": [
    "### X and y"
   ]
  },
  {
   "cell_type": "code",
   "execution_count": 5,
   "id": "ab5c59c0",
   "metadata": {},
   "outputs": [],
   "source": [
    "X=df.drop(columns='Chance of Admit')\n",
    "y=df['Chance of Admit']"
   ]
  },
  {
   "cell_type": "code",
   "execution_count": 6,
   "id": "e0bed9c5",
   "metadata": {},
   "outputs": [],
   "source": [
    "from sklearn.model_selection import train_test_split\n",
    "\n",
    "X_train,X_test,y_train,y_test = train_test_split(X,y,test_size=0.2,random_state=42)"
   ]
  },
  {
   "cell_type": "markdown",
   "id": "7c6b45a6",
   "metadata": {},
   "source": [
    "# Modelling with Polynomial Regression"
   ]
  },
  {
   "cell_type": "code",
   "execution_count": 7,
   "id": "615f1d38",
   "metadata": {},
   "outputs": [
    {
     "name": "stdout",
     "output_type": "stream",
     "text": [
      "Train R2 score is  0.8269772398633369\n",
      "Cross Validation score is  0.7971042329502941\n",
      "Test R2 score is  0.8388809595759492\n"
     ]
    }
   ],
   "source": [
    "from sklearn.preprocessing import PolynomialFeatures\n",
    "\n",
    "polynomial_converter= PolynomialFeatures(degree=2,include_bias=False)\n",
    "\n",
    "x_train_poly_n = pd.DataFrame(polynomial_converter.fit_transform(X_train))\n",
    "\n",
    "from sklearn.linear_model import LinearRegression\n",
    "\n",
    "model = LinearRegression()\n",
    "\n",
    "# Fitting model on training data\n",
    "model.fit(x_train_poly_n,y_train)\n",
    "\n",
    "# Predicting train data\n",
    "ypred_train= model.predict(x_train_poly_n)\n",
    "\n",
    "# Evaluation of train data\n",
    "from sklearn.metrics import r2_score\n",
    "print('Train R2 score is ',r2_score(y_train,ypred_train))\n",
    "\n",
    "from sklearn.model_selection import cross_val_score\n",
    "print('Cross Validation score is ',cross_val_score(model,x_train_poly_n,y_train,cv=5).mean())\n",
    "\n",
    "# Predicting test data\n",
    "\n",
    "# First we must transform the X_test to polynomial degree used for training\n",
    "\n",
    "x_test_poly_n=pd.DataFrame(polynomial_converter.transform(X_test))\n",
    "ypred_test=model.predict(x_test_poly_n)\n",
    "\n",
    "# Evaluation of test data\n",
    "\n",
    "print('Test R2 score is ',r2_score(y_test,ypred_test))"
   ]
  },
  {
   "cell_type": "markdown",
   "id": "399eec4e",
   "metadata": {},
   "source": [
    "# Results\n",
    "- n= 2 Test R2 score is  83.8% ( best )\n",
    "- n= 3 Test R2 score is  71.9% ( Overfitting)"
   ]
  },
  {
   "cell_type": "markdown",
   "id": "4efb1cf1",
   "metadata": {},
   "source": [
    "## Predict on Future Data"
   ]
  },
  {
   "cell_type": "code",
   "execution_count": 8,
   "id": "c39f755e",
   "metadata": {},
   "outputs": [
    {
     "data": {
      "text/html": [
       "<div>\n",
       "<style scoped>\n",
       "    .dataframe tbody tr th:only-of-type {\n",
       "        vertical-align: middle;\n",
       "    }\n",
       "\n",
       "    .dataframe tbody tr th {\n",
       "        vertical-align: top;\n",
       "    }\n",
       "\n",
       "    .dataframe thead th {\n",
       "        text-align: right;\n",
       "    }\n",
       "</style>\n",
       "<table border=\"1\" class=\"dataframe\">\n",
       "  <thead>\n",
       "    <tr style=\"text-align: right;\">\n",
       "      <th></th>\n",
       "      <th>GRE Score</th>\n",
       "      <th>TOEFL Score</th>\n",
       "      <th>University Rating</th>\n",
       "      <th>SOP</th>\n",
       "      <th>LOR</th>\n",
       "      <th>CGPA</th>\n",
       "      <th>Research</th>\n",
       "    </tr>\n",
       "  </thead>\n",
       "  <tbody>\n",
       "    <tr>\n",
       "      <th>0</th>\n",
       "      <td>307</td>\n",
       "      <td>110</td>\n",
       "      <td>4.5</td>\n",
       "      <td>3.5</td>\n",
       "      <td>4.0</td>\n",
       "      <td>8.03</td>\n",
       "      <td>0</td>\n",
       "    </tr>\n",
       "  </tbody>\n",
       "</table>\n",
       "</div>"
      ],
      "text/plain": [
       "   GRE Score  TOEFL Score  University Rating  SOP  LOR  CGPA  Research\n",
       "0        307          110                4.5  3.5  4.0  8.03         0"
      ]
     },
     "execution_count": 8,
     "metadata": {},
     "output_type": "execute_result"
    }
   ],
   "source": [
    "new_test={'GRE Score':307,'TOEFL Score':110, 'University Rating':4.5, 'SOP':3.5, 'LOR':4.0, 'CGPA':8.03,\n",
    "       'Research':0}\n",
    "\n",
    "new_df=pd.DataFrame(new_test,[0])\n",
    "new_df"
   ]
  },
  {
   "cell_type": "code",
   "execution_count": 9,
   "id": "f4547728",
   "metadata": {},
   "outputs": [],
   "source": [
    "new_df.drop(columns='GRE Score',inplace=True)"
   ]
  },
  {
   "cell_type": "code",
   "execution_count": 10,
   "id": "b1d4f930",
   "metadata": {},
   "outputs": [
    {
     "data": {
      "text/html": [
       "<div>\n",
       "<style scoped>\n",
       "    .dataframe tbody tr th:only-of-type {\n",
       "        vertical-align: middle;\n",
       "    }\n",
       "\n",
       "    .dataframe tbody tr th {\n",
       "        vertical-align: top;\n",
       "    }\n",
       "\n",
       "    .dataframe thead th {\n",
       "        text-align: right;\n",
       "    }\n",
       "</style>\n",
       "<table border=\"1\" class=\"dataframe\">\n",
       "  <thead>\n",
       "    <tr style=\"text-align: right;\">\n",
       "      <th></th>\n",
       "      <th>TOEFL Score</th>\n",
       "      <th>University Rating</th>\n",
       "      <th>SOP</th>\n",
       "      <th>LOR</th>\n",
       "      <th>CGPA</th>\n",
       "      <th>Research</th>\n",
       "    </tr>\n",
       "  </thead>\n",
       "  <tbody>\n",
       "    <tr>\n",
       "      <th>0</th>\n",
       "      <td>110</td>\n",
       "      <td>4.5</td>\n",
       "      <td>3.5</td>\n",
       "      <td>4.0</td>\n",
       "      <td>8.03</td>\n",
       "      <td>0</td>\n",
       "    </tr>\n",
       "  </tbody>\n",
       "</table>\n",
       "</div>"
      ],
      "text/plain": [
       "   TOEFL Score  University Rating  SOP  LOR  CGPA  Research\n",
       "0          110                4.5  3.5  4.0  8.03         0"
      ]
     },
     "execution_count": 10,
     "metadata": {},
     "output_type": "execute_result"
    }
   ],
   "source": [
    "new_df"
   ]
  },
  {
   "cell_type": "code",
   "execution_count": 11,
   "id": "8e61125c",
   "metadata": {},
   "outputs": [],
   "source": [
    "new_df_poly=pd.DataFrame(polynomial_converter.transform(new_df))\n"
   ]
  },
  {
   "cell_type": "code",
   "execution_count": 12,
   "id": "17abc492",
   "metadata": {},
   "outputs": [
    {
     "data": {
      "text/plain": [
       "array([0.67635445])"
      ]
     },
     "execution_count": 12,
     "metadata": {},
     "output_type": "execute_result"
    }
   ],
   "source": [
    "model.predict(new_df_poly)"
   ]
  },
  {
   "cell_type": "markdown",
   "id": "e15c40de",
   "metadata": {},
   "source": [
    "#### 83.8% accuracy"
   ]
  },
  {
   "cell_type": "code",
   "execution_count": 13,
   "id": "d7276e95",
   "metadata": {},
   "outputs": [
    {
     "data": {
      "image/png": "[encoded data removed]",
      "text/plain": [
       "<Figure size 640x480 with 1 Axes>"
      ]
     },
     "metadata": {},
     "output_type": "display_data"
    }
   ],
   "source": [
    "train_error=y_train-ypred_train\n",
    "\n",
    "sns.scatterplot(x=y_train,y=train_error,data=df)\n",
    "plt.xlabel('Observed values')\n",
    "plt.ylabel('Training Residuals')\n",
    "plt.show()"
   ]
  },
  {
   "cell_type": "markdown",
   "id": "78e9760f",
   "metadata": {},
   "source": [
    "## Normality"
   ]
  },
  {
   "cell_type": "code",
   "execution_count": 14,
   "id": "b2c0732d",
   "metadata": {},
   "outputs": [
    {
     "data": {
      "text/plain": [
       "-0.9842523186789336"
      ]
     },
     "execution_count": 14,
     "metadata": {},
     "output_type": "execute_result"
    }
   ],
   "source": [
    "train_error.skew()"
   ]
  },
  {
   "cell_type": "code",
   "execution_count": 15,
   "id": "5b0f73d5",
   "metadata": {},
   "outputs": [],
   "source": [
    "df_train,df_test=train_test_split(df,test_size=0.2,random_state=42)"
   ]
  },
  {
   "cell_type": "code",
   "execution_count": 16,
   "id": "640b4d49",
   "metadata": {},
   "outputs": [
    {
     "data": {
      "text/html": [
       "<table class=\"simpletable\">\n",
       "<caption>OLS Regression Results</caption>\n",
       "<tr>\n",
       "  <th>Dep. Variable:</th>         <td>y_train</td>     <th>  R-squared:         </th> <td>   0.813</td> \n",
       "</tr>\n",
       "<tr>\n",
       "  <th>Model:</th>                   <td>OLS</td>       <th>  Adj. R-squared:    </th> <td>   0.810</td> \n",
       "</tr>\n",
       "<tr>\n",
       "  <th>Method:</th>             <td>Least Squares</td>  <th>  F-statistic:       </th> <td>   284.8</td> \n",
       "</tr>\n",
       "<tr>\n",
       "  <th>Date:</th>             <td>Tue, 16 Jul 2024</td> <th>  Prob (F-statistic):</th> <td>1.04e-139</td>\n",
       "</tr>\n",
       "<tr>\n",
       "  <th>Time:</th>                 <td>09:46:36</td>     <th>  Log-Likelihood:    </th> <td>  553.12</td> \n",
       "</tr>\n",
       "<tr>\n",
       "  <th>No. Observations:</th>      <td>   400</td>      <th>  AIC:               </th> <td>  -1092.</td> \n",
       "</tr>\n",
       "<tr>\n",
       "  <th>Df Residuals:</th>          <td>   393</td>      <th>  BIC:               </th> <td>  -1064.</td> \n",
       "</tr>\n",
       "<tr>\n",
       "  <th>Df Model:</th>              <td>     6</td>      <th>                     </th>     <td> </td>    \n",
       "</tr>\n",
       "<tr>\n",
       "  <th>Covariance Type:</th>      <td>nonrobust</td>    <th>                     </th>     <td> </td>    \n",
       "</tr>\n",
       "</table>\n",
       "<table class=\"simpletable\">\n",
       "<tr>\n",
       "       <td></td>         <th>coef</th>     <th>std err</th>      <th>t</th>      <th>P>|t|</th>  <th>[0.025</th>    <th>0.975]</th>  \n",
       "</tr>\n",
       "<tr>\n",
       "  <th>Intercept</th>  <td>   -1.0024</td> <td>    0.073</td> <td>  -13.647</td> <td> 0.000</td> <td>   -1.147</td> <td>   -0.858</td>\n",
       "</tr>\n",
       "<tr>\n",
       "  <th>X_train[0]</th> <td>    0.0047</td> <td>    0.001</td> <td>    5.491</td> <td> 0.000</td> <td>    0.003</td> <td>    0.006</td>\n",
       "</tr>\n",
       "<tr>\n",
       "  <th>X_train[1]</th> <td>    0.0037</td> <td>    0.004</td> <td>    0.861</td> <td> 0.390</td> <td>   -0.005</td> <td>    0.012</td>\n",
       "</tr>\n",
       "<tr>\n",
       "  <th>X_train[2]</th> <td>    0.0012</td> <td>    0.005</td> <td>    0.224</td> <td> 0.823</td> <td>   -0.009</td> <td>    0.011</td>\n",
       "</tr>\n",
       "<tr>\n",
       "  <th>X_train[3]</th> <td>    0.0161</td> <td>    0.005</td> <td>    3.448</td> <td> 0.001</td> <td>    0.007</td> <td>    0.025</td>\n",
       "</tr>\n",
       "<tr>\n",
       "  <th>X_train[4]</th> <td>    0.1313</td> <td>    0.010</td> <td>   13.129</td> <td> 0.000</td> <td>    0.112</td> <td>    0.151</td>\n",
       "</tr>\n",
       "<tr>\n",
       "  <th>X_train[5]</th> <td>    0.0339</td> <td>    0.007</td> <td>    4.698</td> <td> 0.000</td> <td>    0.020</td> <td>    0.048</td>\n",
       "</tr>\n",
       "</table>\n",
       "<table class=\"simpletable\">\n",
       "<tr>\n",
       "  <th>Omnibus:</th>       <td>77.650</td> <th>  Durbin-Watson:     </th> <td>   2.067</td>\n",
       "</tr>\n",
       "<tr>\n",
       "  <th>Prob(Omnibus):</th> <td> 0.000</td> <th>  Jarque-Bera (JB):  </th> <td> 150.254</td>\n",
       "</tr>\n",
       "<tr>\n",
       "  <th>Skew:</th>          <td>-1.058</td> <th>  Prob(JB):          </th> <td>2.36e-33</td>\n",
       "</tr>\n",
       "<tr>\n",
       "  <th>Kurtosis:</th>      <td> 5.130</td> <th>  Cond. No.          </th> <td>2.60e+03</td>\n",
       "</tr>\n",
       "</table><br/><br/>Notes:<br/>[1] Standard Errors assume that the covariance matrix of the errors is correctly specified.<br/>[2] The condition number is large, 2.6e+03. This might indicate that there are<br/>strong multicollinearity or other numerical problems."
      ],
      "text/latex": [
       "\\begin{center}\n",
       "\\begin{tabular}{lclc}\n",
       "\\toprule\n",
       "\\textbf{Dep. Variable:}    &     y\\_train     & \\textbf{  R-squared:         } &     0.813   \\\\\n",
       "\\textbf{Model:}            &       OLS        & \\textbf{  Adj. R-squared:    } &     0.810   \\\\\n",
       "\\textbf{Method:}           &  Least Squares   & \\textbf{  F-statistic:       } &     284.8   \\\\\n",
       "\\textbf{Date:}             & Tue, 16 Jul 2024 & \\textbf{  Prob (F-statistic):} & 1.04e-139   \\\\\n",
       "\\textbf{Time:}             &     09:46:36     & \\textbf{  Log-Likelihood:    } &    553.12   \\\\\n",
       "\\textbf{No. Observations:} &         400      & \\textbf{  AIC:               } &    -1092.   \\\\\n",
       "\\textbf{Df Residuals:}     &         393      & \\textbf{  BIC:               } &    -1064.   \\\\\n",
       "\\textbf{Df Model:}         &           6      & \\textbf{                     } &             \\\\\n",
       "\\textbf{Covariance Type:}  &    nonrobust     & \\textbf{                     } &             \\\\\n",
       "\\bottomrule\n",
       "\\end{tabular}\n",
       "\\begin{tabular}{lcccccc}\n",
       "                     & \\textbf{coef} & \\textbf{std err} & \\textbf{t} & \\textbf{P$> |$t$|$} & \\textbf{[0.025} & \\textbf{0.975]}  \\\\\n",
       "\\midrule\n",
       "\\textbf{Intercept}   &      -1.0024  &        0.073     &   -13.647  &         0.000        &       -1.147    &       -0.858     \\\\\n",
       "\\textbf{X\\_train[0]} &       0.0047  &        0.001     &     5.491  &         0.000        &        0.003    &        0.006     \\\\\n",
       "\\textbf{X\\_train[1]} &       0.0037  &        0.004     &     0.861  &         0.390        &       -0.005    &        0.012     \\\\\n",
       "\\textbf{X\\_train[2]} &       0.0012  &        0.005     &     0.224  &         0.823        &       -0.009    &        0.011     \\\\\n",
       "\\textbf{X\\_train[3]} &       0.0161  &        0.005     &     3.448  &         0.001        &        0.007    &        0.025     \\\\\n",
       "\\textbf{X\\_train[4]} &       0.1313  &        0.010     &    13.129  &         0.000        &        0.112    &        0.151     \\\\\n",
       "\\textbf{X\\_train[5]} &       0.0339  &        0.007     &     4.698  &         0.000        &        0.020    &        0.048     \\\\\n",
       "\\bottomrule\n",
       "\\end{tabular}\n",
       "\\begin{tabular}{lclc}\n",
       "\\textbf{Omnibus:}       & 77.650 & \\textbf{  Durbin-Watson:     } &    2.067  \\\\\n",
       "\\textbf{Prob(Omnibus):} &  0.000 & \\textbf{  Jarque-Bera (JB):  } &  150.254  \\\\\n",
       "\\textbf{Skew:}          & -1.058 & \\textbf{  Prob(JB):          } & 2.36e-33  \\\\\n",
       "\\textbf{Kurtosis:}      &  5.130 & \\textbf{  Cond. No.          } & 2.60e+03  \\\\\n",
       "\\bottomrule\n",
       "\\end{tabular}\n",
       "%\\caption{OLS Regression Results}\n",
       "\\end{center}\n",
       "\n",
       "Notes: \\newline\n",
       " [1] Standard Errors assume that the covariance matrix of the errors is correctly specified. \\newline\n",
       " [2] The condition number is large, 2.6e+03. This might indicate that there are \\newline\n",
       " strong multicollinearity or other numerical problems."
      ],
      "text/plain": [
       "<class 'statsmodels.iolib.summary.Summary'>\n",
       "\"\"\"\n",
       "                            OLS Regression Results                            \n",
       "==============================================================================\n",
       "Dep. Variable:                y_train   R-squared:                       0.813\n",
       "Model:                            OLS   Adj. R-squared:                  0.810\n",
       "Method:                 Least Squares   F-statistic:                     284.8\n",
       "Date:                Tue, 16 Jul 2024   Prob (F-statistic):          1.04e-139\n",
       "Time:                        09:46:36   Log-Likelihood:                 553.12\n",
       "No. Observations:                 400   AIC:                            -1092.\n",
       "Df Residuals:                     393   BIC:                            -1064.\n",
       "Df Model:                           6                                         \n",
       "Covariance Type:            nonrobust                                         \n",
       "==============================================================================\n",
       "                 coef    std err          t      P>|t|      [0.025      0.975]\n",
       "------------------------------------------------------------------------------\n",
       "Intercept     -1.0024      0.073    -13.647      0.000      -1.147      -0.858\n",
       "X_train[0]     0.0047      0.001      5.491      0.000       0.003       0.006\n",
       "X_train[1]     0.0037      0.004      0.861      0.390      -0.005       0.012\n",
       "X_train[2]     0.0012      0.005      0.224      0.823      -0.009       0.011\n",
       "X_train[3]     0.0161      0.005      3.448      0.001       0.007       0.025\n",
       "X_train[4]     0.1313      0.010     13.129      0.000       0.112       0.151\n",
       "X_train[5]     0.0339      0.007      4.698      0.000       0.020       0.048\n",
       "==============================================================================\n",
       "Omnibus:                       77.650   Durbin-Watson:                   2.067\n",
       "Prob(Omnibus):                  0.000   Jarque-Bera (JB):              150.254\n",
       "Skew:                          -1.058   Prob(JB):                     2.36e-33\n",
       "Kurtosis:                       5.130   Cond. No.                     2.60e+03\n",
       "==============================================================================\n",
       "\n",
       "Notes:\n",
       "[1] Standard Errors assume that the covariance matrix of the errors is correctly specified.\n",
       "[2] The condition number is large, 2.6e+03. This might indicate that there are\n",
       "strong multicollinearity or other numerical problems.\n",
       "\"\"\""
      ]
     },
     "execution_count": 16,
     "metadata": {},
     "output_type": "execute_result"
    }
   ],
   "source": [
    "from statsmodels.formula.api import ols\n",
    "\n",
    "model_ols=ols('y_train~X_train',data=df_train).fit()\n",
    "model_ols.summary()"
   ]
  },
  {
   "cell_type": "code",
   "execution_count": 17,
   "id": "3aba1170",
   "metadata": {},
   "outputs": [
    {
     "data": {
      "image/png": "[encoded data removed]",
      "text/plain": [
       "<Figure size 640x480 with 7 Axes>"
      ]
     },
     "metadata": {},
     "output_type": "display_data"
    }
   ],
   "source": [
    "import statsmodels.api as sm\n",
    "\n",
    "sm.graphics.plot_partregress_grid(model_ols)\n",
    "plt.show()"
   ]
  },
  {
   "cell_type": "markdown",
   "id": "ccac9ca7",
   "metadata": {},
   "source": [
    "## Remove SOP and re train"
   ]
  },
  {
   "cell_type": "code",
   "execution_count": 18,
   "id": "6444c963",
   "metadata": {},
   "outputs": [],
   "source": [
    "X.drop(columns='SOP',inplace=True)"
   ]
  },
  {
   "cell_type": "markdown",
   "id": "c74871c3",
   "metadata": {},
   "source": [
    "### X and y"
   ]
  },
  {
   "cell_type": "code",
   "execution_count": 19,
   "id": "7f555159",
   "metadata": {},
   "outputs": [
    {
     "data": {
      "text/html": [
       "<div>\n",
       "<style scoped>\n",
       "    .dataframe tbody tr th:only-of-type {\n",
       "        vertical-align: middle;\n",
       "    }\n",
       "\n",
       "    .dataframe tbody tr th {\n",
       "        vertical-align: top;\n",
       "    }\n",
       "\n",
       "    .dataframe thead th {\n",
       "        text-align: right;\n",
       "    }\n",
       "</style>\n",
       "<table border=\"1\" class=\"dataframe\">\n",
       "  <thead>\n",
       "    <tr style=\"text-align: right;\">\n",
       "      <th></th>\n",
       "      <th>TOEFL Score</th>\n",
       "      <th>University Rating</th>\n",
       "      <th>LOR</th>\n",
       "      <th>CGPA</th>\n",
       "      <th>Research</th>\n",
       "    </tr>\n",
       "  </thead>\n",
       "  <tbody>\n",
       "    <tr>\n",
       "      <th>0</th>\n",
       "      <td>118</td>\n",
       "      <td>4</td>\n",
       "      <td>4.5</td>\n",
       "      <td>9.65</td>\n",
       "      <td>1</td>\n",
       "    </tr>\n",
       "    <tr>\n",
       "      <th>1</th>\n",
       "      <td>107</td>\n",
       "      <td>4</td>\n",
       "      <td>4.5</td>\n",
       "      <td>8.87</td>\n",
       "      <td>1</td>\n",
       "    </tr>\n",
       "    <tr>\n",
       "      <th>2</th>\n",
       "      <td>104</td>\n",
       "      <td>3</td>\n",
       "      <td>3.5</td>\n",
       "      <td>8.00</td>\n",
       "      <td>1</td>\n",
       "    </tr>\n",
       "    <tr>\n",
       "      <th>3</th>\n",
       "      <td>110</td>\n",
       "      <td>3</td>\n",
       "      <td>2.5</td>\n",
       "      <td>8.67</td>\n",
       "      <td>1</td>\n",
       "    </tr>\n",
       "    <tr>\n",
       "      <th>4</th>\n",
       "      <td>103</td>\n",
       "      <td>2</td>\n",
       "      <td>3.0</td>\n",
       "      <td>8.21</td>\n",
       "      <td>0</td>\n",
       "    </tr>\n",
       "    <tr>\n",
       "      <th>...</th>\n",
       "      <td>...</td>\n",
       "      <td>...</td>\n",
       "      <td>...</td>\n",
       "      <td>...</td>\n",
       "      <td>...</td>\n",
       "    </tr>\n",
       "    <tr>\n",
       "      <th>495</th>\n",
       "      <td>108</td>\n",
       "      <td>5</td>\n",
       "      <td>4.0</td>\n",
       "      <td>9.02</td>\n",
       "      <td>1</td>\n",
       "    </tr>\n",
       "    <tr>\n",
       "      <th>496</th>\n",
       "      <td>117</td>\n",
       "      <td>5</td>\n",
       "      <td>5.0</td>\n",
       "      <td>9.87</td>\n",
       "      <td>1</td>\n",
       "    </tr>\n",
       "    <tr>\n",
       "      <th>497</th>\n",
       "      <td>120</td>\n",
       "      <td>5</td>\n",
       "      <td>5.0</td>\n",
       "      <td>9.56</td>\n",
       "      <td>1</td>\n",
       "    </tr>\n",
       "    <tr>\n",
       "      <th>498</th>\n",
       "      <td>103</td>\n",
       "      <td>4</td>\n",
       "      <td>5.0</td>\n",
       "      <td>8.43</td>\n",
       "      <td>0</td>\n",
       "    </tr>\n",
       "    <tr>\n",
       "      <th>499</th>\n",
       "      <td>113</td>\n",
       "      <td>4</td>\n",
       "      <td>4.5</td>\n",
       "      <td>9.04</td>\n",
       "      <td>0</td>\n",
       "    </tr>\n",
       "  </tbody>\n",
       "</table>\n",
       "<p>500 rows × 5 columns</p>\n",
       "</div>"
      ],
      "text/plain": [
       "     TOEFL Score  University Rating  LOR  CGPA  Research\n",
       "0            118                  4  4.5  9.65         1\n",
       "1            107                  4  4.5  8.87         1\n",
       "2            104                  3  3.5  8.00         1\n",
       "3            110                  3  2.5  8.67         1\n",
       "4            103                  2  3.0  8.21         0\n",
       "..           ...                ...  ...   ...       ...\n",
       "495          108                  5  4.0  9.02         1\n",
       "496          117                  5  5.0  9.87         1\n",
       "497          120                  5  5.0  9.56         1\n",
       "498          103                  4  5.0  8.43         0\n",
       "499          113                  4  4.5  9.04         0\n",
       "\n",
       "[500 rows x 5 columns]"
      ]
     },
     "execution_count": 19,
     "metadata": {},
     "output_type": "execute_result"
    }
   ],
   "source": [
    "X"
   ]
  },
  {
   "cell_type": "markdown",
   "id": "d44d1f35",
   "metadata": {},
   "source": [
    "### train test split "
   ]
  },
  {
   "cell_type": "code",
   "execution_count": 20,
   "id": "bba0d0f1",
   "metadata": {},
   "outputs": [],
   "source": [
    "from sklearn.model_selection import train_test_split\n",
    "\n",
    "X_train,X_test,y_train,y_test = train_test_split(X,y,test_size=0.2,random_state=42)"
   ]
  },
  {
   "cell_type": "markdown",
   "id": "2a7c648a",
   "metadata": {},
   "source": [
    "## Modelling with Polynomial Regression"
   ]
  },
  {
   "cell_type": "code",
   "execution_count": 21,
   "id": "07547ffd",
   "metadata": {},
   "outputs": [
    {
     "name": "stdout",
     "output_type": "stream",
     "text": [
      "Train R2 score is  0.821693506681153\n",
      "Cross Validation score is  0.7991769138505533\n",
      "Test R2 score is  0.8288209104621549\n"
     ]
    }
   ],
   "source": [
    "from sklearn.preprocessing import PolynomialFeatures\n",
    "\n",
    "polynomial_converter= PolynomialFeatures(degree=2,include_bias=False)\n",
    "\n",
    "x_train_poly_n = pd.DataFrame(polynomial_converter.fit_transform(X_train))\n",
    "\n",
    "from sklearn.linear_model import LinearRegression\n",
    "\n",
    "model = LinearRegression()\n",
    "\n",
    "# Fitting model on training data\n",
    "model.fit(x_train_poly_n,y_train)\n",
    "\n",
    "# Predicting train data\n",
    "ypred_train= model.predict(x_train_poly_n)\n",
    "\n",
    "# Evaluation of train data\n",
    "from sklearn.metrics import r2_score\n",
    "print('Train R2 score is ',r2_score(y_train,ypred_train))\n",
    "\n",
    "from sklearn.model_selection import cross_val_score\n",
    "print('Cross Validation score is ',cross_val_score(model,x_train_poly_n,y_train,cv=5).mean())\n",
    "\n",
    "# Predicting test data\n",
    "\n",
    "# First we must transform the X_test to polynomial degree used for training\n",
    "\n",
    "x_test_poly_n=pd.DataFrame(polynomial_converter.transform(X_test))\n",
    "ypred_test=model.predict(x_test_poly_n)\n",
    "\n",
    "# Evaluation of test data\n",
    "\n",
    "print('Test R2 score is ',r2_score(y_test,ypred_test))"
   ]
  },
  {
   "cell_type": "code",
   "execution_count": 22,
   "id": "06b50b7d",
   "metadata": {},
   "outputs": [
    {
     "data": {
      "text/html": [
       "<table class=\"simpletable\">\n",
       "<caption>OLS Regression Results</caption>\n",
       "<tr>\n",
       "  <th>Dep. Variable:</th>         <td>y_train</td>     <th>  R-squared:         </th> <td>   0.813</td> \n",
       "</tr>\n",
       "<tr>\n",
       "  <th>Model:</th>                   <td>OLS</td>       <th>  Adj. R-squared:    </th> <td>   0.811</td> \n",
       "</tr>\n",
       "<tr>\n",
       "  <th>Method:</th>             <td>Least Squares</td>  <th>  F-statistic:       </th> <td>   342.6</td> \n",
       "</tr>\n",
       "<tr>\n",
       "  <th>Date:</th>             <td>Tue, 16 Jul 2024</td> <th>  Prob (F-statistic):</th> <td>5.48e-141</td>\n",
       "</tr>\n",
       "<tr>\n",
       "  <th>Time:</th>                 <td>09:46:37</td>     <th>  Log-Likelihood:    </th> <td>  553.10</td> \n",
       "</tr>\n",
       "<tr>\n",
       "  <th>No. Observations:</th>      <td>   400</td>      <th>  AIC:               </th> <td>  -1094.</td> \n",
       "</tr>\n",
       "<tr>\n",
       "  <th>Df Residuals:</th>          <td>   394</td>      <th>  BIC:               </th> <td>  -1070.</td> \n",
       "</tr>\n",
       "<tr>\n",
       "  <th>Df Model:</th>              <td>     5</td>      <th>                     </th>     <td> </td>    \n",
       "</tr>\n",
       "<tr>\n",
       "  <th>Covariance Type:</th>      <td>nonrobust</td>    <th>                     </th>     <td> </td>    \n",
       "</tr>\n",
       "</table>\n",
       "<table class=\"simpletable\">\n",
       "<tr>\n",
       "       <td></td>         <th>coef</th>     <th>std err</th>      <th>t</th>      <th>P>|t|</th>  <th>[0.025</th>    <th>0.975]</th>  \n",
       "</tr>\n",
       "<tr>\n",
       "  <th>Intercept</th>  <td>   -1.0068</td> <td>    0.071</td> <td>  -14.231</td> <td> 0.000</td> <td>   -1.146</td> <td>   -0.868</td>\n",
       "</tr>\n",
       "<tr>\n",
       "  <th>X_train[0]</th> <td>    0.0048</td> <td>    0.001</td> <td>    5.558</td> <td> 0.000</td> <td>    0.003</td> <td>    0.006</td>\n",
       "</tr>\n",
       "<tr>\n",
       "  <th>X_train[1]</th> <td>    0.0040</td> <td>    0.004</td> <td>    0.996</td> <td> 0.320</td> <td>   -0.004</td> <td>    0.012</td>\n",
       "</tr>\n",
       "<tr>\n",
       "  <th>X_train[2]</th> <td>    0.0164</td> <td>    0.004</td> <td>    3.690</td> <td> 0.000</td> <td>    0.008</td> <td>    0.025</td>\n",
       "</tr>\n",
       "<tr>\n",
       "  <th>X_train[3]</th> <td>    0.1318</td> <td>    0.010</td> <td>   13.462</td> <td> 0.000</td> <td>    0.113</td> <td>    0.151</td>\n",
       "</tr>\n",
       "<tr>\n",
       "  <th>X_train[4]</th> <td>    0.0339</td> <td>    0.007</td> <td>    4.705</td> <td> 0.000</td> <td>    0.020</td> <td>    0.048</td>\n",
       "</tr>\n",
       "</table>\n",
       "<table class=\"simpletable\">\n",
       "<tr>\n",
       "  <th>Omnibus:</th>       <td>77.203</td> <th>  Durbin-Watson:     </th> <td>   2.065</td>\n",
       "</tr>\n",
       "<tr>\n",
       "  <th>Prob(Omnibus):</th> <td> 0.000</td> <th>  Jarque-Bera (JB):  </th> <td> 148.788</td>\n",
       "</tr>\n",
       "<tr>\n",
       "  <th>Skew:</th>          <td>-1.054</td> <th>  Prob(JB):          </th> <td>4.91e-33</td>\n",
       "</tr>\n",
       "<tr>\n",
       "  <th>Kurtosis:</th>      <td> 5.117</td> <th>  Cond. No.          </th> <td>2.50e+03</td>\n",
       "</tr>\n",
       "</table><br/><br/>Notes:<br/>[1] Standard Errors assume that the covariance matrix of the errors is correctly specified.<br/>[2] The condition number is large, 2.5e+03. This might indicate that there are<br/>strong multicollinearity or other numerical problems."
      ],
      "text/latex": [
       "\\begin{center}\n",
       "\\begin{tabular}{lclc}\n",
       "\\toprule\n",
       "\\textbf{Dep. Variable:}    &     y\\_train     & \\textbf{  R-squared:         } &     0.813   \\\\\n",
       "\\textbf{Model:}            &       OLS        & \\textbf{  Adj. R-squared:    } &     0.811   \\\\\n",
       "\\textbf{Method:}           &  Least Squares   & \\textbf{  F-statistic:       } &     342.6   \\\\\n",
       "\\textbf{Date:}             & Tue, 16 Jul 2024 & \\textbf{  Prob (F-statistic):} & 5.48e-141   \\\\\n",
       "\\textbf{Time:}             &     09:46:37     & \\textbf{  Log-Likelihood:    } &    553.10   \\\\\n",
       "\\textbf{No. Observations:} &         400      & \\textbf{  AIC:               } &    -1094.   \\\\\n",
       "\\textbf{Df Residuals:}     &         394      & \\textbf{  BIC:               } &    -1070.   \\\\\n",
       "\\textbf{Df Model:}         &           5      & \\textbf{                     } &             \\\\\n",
       "\\textbf{Covariance Type:}  &    nonrobust     & \\textbf{                     } &             \\\\\n",
       "\\bottomrule\n",
       "\\end{tabular}\n",
       "\\begin{tabular}{lcccccc}\n",
       "                     & \\textbf{coef} & \\textbf{std err} & \\textbf{t} & \\textbf{P$> |$t$|$} & \\textbf{[0.025} & \\textbf{0.975]}  \\\\\n",
       "\\midrule\n",
       "\\textbf{Intercept}   &      -1.0068  &        0.071     &   -14.231  &         0.000        &       -1.146    &       -0.868     \\\\\n",
       "\\textbf{X\\_train[0]} &       0.0048  &        0.001     &     5.558  &         0.000        &        0.003    &        0.006     \\\\\n",
       "\\textbf{X\\_train[1]} &       0.0040  &        0.004     &     0.996  &         0.320        &       -0.004    &        0.012     \\\\\n",
       "\\textbf{X\\_train[2]} &       0.0164  &        0.004     &     3.690  &         0.000        &        0.008    &        0.025     \\\\\n",
       "\\textbf{X\\_train[3]} &       0.1318  &        0.010     &    13.462  &         0.000        &        0.113    &        0.151     \\\\\n",
       "\\textbf{X\\_train[4]} &       0.0339  &        0.007     &     4.705  &         0.000        &        0.020    &        0.048     \\\\\n",
       "\\bottomrule\n",
       "\\end{tabular}\n",
       "\\begin{tabular}{lclc}\n",
       "\\textbf{Omnibus:}       & 77.203 & \\textbf{  Durbin-Watson:     } &    2.065  \\\\\n",
       "\\textbf{Prob(Omnibus):} &  0.000 & \\textbf{  Jarque-Bera (JB):  } &  148.788  \\\\\n",
       "\\textbf{Skew:}          & -1.054 & \\textbf{  Prob(JB):          } & 4.91e-33  \\\\\n",
       "\\textbf{Kurtosis:}      &  5.117 & \\textbf{  Cond. No.          } & 2.50e+03  \\\\\n",
       "\\bottomrule\n",
       "\\end{tabular}\n",
       "%\\caption{OLS Regression Results}\n",
       "\\end{center}\n",
       "\n",
       "Notes: \\newline\n",
       " [1] Standard Errors assume that the covariance matrix of the errors is correctly specified. \\newline\n",
       " [2] The condition number is large, 2.5e+03. This might indicate that there are \\newline\n",
       " strong multicollinearity or other numerical problems."
      ],
      "text/plain": [
       "<class 'statsmodels.iolib.summary.Summary'>\n",
       "\"\"\"\n",
       "                            OLS Regression Results                            \n",
       "==============================================================================\n",
       "Dep. Variable:                y_train   R-squared:                       0.813\n",
       "Model:                            OLS   Adj. R-squared:                  0.811\n",
       "Method:                 Least Squares   F-statistic:                     342.6\n",
       "Date:                Tue, 16 Jul 2024   Prob (F-statistic):          5.48e-141\n",
       "Time:                        09:46:37   Log-Likelihood:                 553.10\n",
       "No. Observations:                 400   AIC:                            -1094.\n",
       "Df Residuals:                     394   BIC:                            -1070.\n",
       "Df Model:                           5                                         \n",
       "Covariance Type:            nonrobust                                         \n",
       "==============================================================================\n",
       "                 coef    std err          t      P>|t|      [0.025      0.975]\n",
       "------------------------------------------------------------------------------\n",
       "Intercept     -1.0068      0.071    -14.231      0.000      -1.146      -0.868\n",
       "X_train[0]     0.0048      0.001      5.558      0.000       0.003       0.006\n",
       "X_train[1]     0.0040      0.004      0.996      0.320      -0.004       0.012\n",
       "X_train[2]     0.0164      0.004      3.690      0.000       0.008       0.025\n",
       "X_train[3]     0.1318      0.010     13.462      0.000       0.113       0.151\n",
       "X_train[4]     0.0339      0.007      4.705      0.000       0.020       0.048\n",
       "==============================================================================\n",
       "Omnibus:                       77.203   Durbin-Watson:                   2.065\n",
       "Prob(Omnibus):                  0.000   Jarque-Bera (JB):              148.788\n",
       "Skew:                          -1.054   Prob(JB):                     4.91e-33\n",
       "Kurtosis:                       5.117   Cond. No.                     2.50e+03\n",
       "==============================================================================\n",
       "\n",
       "Notes:\n",
       "[1] Standard Errors assume that the covariance matrix of the errors is correctly specified.\n",
       "[2] The condition number is large, 2.5e+03. This might indicate that there are\n",
       "strong multicollinearity or other numerical problems.\n",
       "\"\"\""
      ]
     },
     "execution_count": 22,
     "metadata": {},
     "output_type": "execute_result"
    }
   ],
   "source": [
    "df_train,df_test=train_test_split(df,test_size=0.2,random_state=42)\n",
    "model_ols=ols('y_train~X_train',data=df_train).fit()\n",
    "model_ols.summary()"
   ]
  },
  {
   "cell_type": "markdown",
   "id": "9d7c4a4e",
   "metadata": {},
   "source": [
    "## Remove University rating and rebuild"
   ]
  },
  {
   "cell_type": "code",
   "execution_count": 23,
   "id": "975ad09c",
   "metadata": {},
   "outputs": [],
   "source": [
    "X.drop(columns='University Rating',inplace=True)"
   ]
  },
  {
   "cell_type": "markdown",
   "id": "21664021",
   "metadata": {},
   "source": [
    "### X and y"
   ]
  },
  {
   "cell_type": "code",
   "execution_count": 24,
   "id": "3dd50148",
   "metadata": {},
   "outputs": [
    {
     "data": {
      "text/html": [
       "<div>\n",
       "<style scoped>\n",
       "    .dataframe tbody tr th:only-of-type {\n",
       "        vertical-align: middle;\n",
       "    }\n",
       "\n",
       "    .dataframe tbody tr th {\n",
       "        vertical-align: top;\n",
       "    }\n",
       "\n",
       "    .dataframe thead th {\n",
       "        text-align: right;\n",
       "    }\n",
       "</style>\n",
       "<table border=\"1\" class=\"dataframe\">\n",
       "  <thead>\n",
       "    <tr style=\"text-align: right;\">\n",
       "      <th></th>\n",
       "      <th>TOEFL Score</th>\n",
       "      <th>LOR</th>\n",
       "      <th>CGPA</th>\n",
       "      <th>Research</th>\n",
       "    </tr>\n",
       "  </thead>\n",
       "  <tbody>\n",
       "    <tr>\n",
       "      <th>0</th>\n",
       "      <td>118</td>\n",
       "      <td>4.5</td>\n",
       "      <td>9.65</td>\n",
       "      <td>1</td>\n",
       "    </tr>\n",
       "    <tr>\n",
       "      <th>1</th>\n",
       "      <td>107</td>\n",
       "      <td>4.5</td>\n",
       "      <td>8.87</td>\n",
       "      <td>1</td>\n",
       "    </tr>\n",
       "    <tr>\n",
       "      <th>2</th>\n",
       "      <td>104</td>\n",
       "      <td>3.5</td>\n",
       "      <td>8.00</td>\n",
       "      <td>1</td>\n",
       "    </tr>\n",
       "    <tr>\n",
       "      <th>3</th>\n",
       "      <td>110</td>\n",
       "      <td>2.5</td>\n",
       "      <td>8.67</td>\n",
       "      <td>1</td>\n",
       "    </tr>\n",
       "    <tr>\n",
       "      <th>4</th>\n",
       "      <td>103</td>\n",
       "      <td>3.0</td>\n",
       "      <td>8.21</td>\n",
       "      <td>0</td>\n",
       "    </tr>\n",
       "    <tr>\n",
       "      <th>...</th>\n",
       "      <td>...</td>\n",
       "      <td>...</td>\n",
       "      <td>...</td>\n",
       "      <td>...</td>\n",
       "    </tr>\n",
       "    <tr>\n",
       "      <th>495</th>\n",
       "      <td>108</td>\n",
       "      <td>4.0</td>\n",
       "      <td>9.02</td>\n",
       "      <td>1</td>\n",
       "    </tr>\n",
       "    <tr>\n",
       "      <th>496</th>\n",
       "      <td>117</td>\n",
       "      <td>5.0</td>\n",
       "      <td>9.87</td>\n",
       "      <td>1</td>\n",
       "    </tr>\n",
       "    <tr>\n",
       "      <th>497</th>\n",
       "      <td>120</td>\n",
       "      <td>5.0</td>\n",
       "      <td>9.56</td>\n",
       "      <td>1</td>\n",
       "    </tr>\n",
       "    <tr>\n",
       "      <th>498</th>\n",
       "      <td>103</td>\n",
       "      <td>5.0</td>\n",
       "      <td>8.43</td>\n",
       "      <td>0</td>\n",
       "    </tr>\n",
       "    <tr>\n",
       "      <th>499</th>\n",
       "      <td>113</td>\n",
       "      <td>4.5</td>\n",
       "      <td>9.04</td>\n",
       "      <td>0</td>\n",
       "    </tr>\n",
       "  </tbody>\n",
       "</table>\n",
       "<p>500 rows × 4 columns</p>\n",
       "</div>"
      ],
      "text/plain": [
       "     TOEFL Score  LOR  CGPA  Research\n",
       "0            118  4.5  9.65         1\n",
       "1            107  4.5  8.87         1\n",
       "2            104  3.5  8.00         1\n",
       "3            110  2.5  8.67         1\n",
       "4            103  3.0  8.21         0\n",
       "..           ...  ...   ...       ...\n",
       "495          108  4.0  9.02         1\n",
       "496          117  5.0  9.87         1\n",
       "497          120  5.0  9.56         1\n",
       "498          103  5.0  8.43         0\n",
       "499          113  4.5  9.04         0\n",
       "\n",
       "[500 rows x 4 columns]"
      ]
     },
     "execution_count": 24,
     "metadata": {},
     "output_type": "execute_result"
    }
   ],
   "source": [
    "X"
   ]
  },
  {
   "cell_type": "markdown",
   "id": "b26bb119",
   "metadata": {},
   "source": [
    "### train test split"
   ]
  },
  {
   "cell_type": "code",
   "execution_count": 25,
   "id": "aa56245a",
   "metadata": {},
   "outputs": [],
   "source": [
    "from sklearn.model_selection import train_test_split\n",
    "\n",
    "X_train,X_test,y_train,y_test = train_test_split(X,y,test_size=0.2,random_state=42)\n",
    "\n"
   ]
  },
  {
   "cell_type": "markdown",
   "id": "8bfa3ab3",
   "metadata": {},
   "source": [
    "## Modelling"
   ]
  },
  {
   "cell_type": "code",
   "execution_count": 26,
   "id": "0e1abb6d",
   "metadata": {},
   "outputs": [
    {
     "name": "stdout",
     "output_type": "stream",
     "text": [
      "Train R2 score is  0.8157608064903504\n",
      "Cross Validation score is  0.7991765236350586\n",
      "Test R2 score is  0.8236209806296534\n"
     ]
    }
   ],
   "source": [
    "from sklearn.preprocessing import PolynomialFeatures\n",
    "\n",
    "polynomial_converter= PolynomialFeatures(degree=2,include_bias=False)\n",
    "\n",
    "x_train_poly_n = pd.DataFrame(polynomial_converter.fit_transform(X_train))\n",
    "\n",
    "from sklearn.linear_model import LinearRegression\n",
    "\n",
    "model = LinearRegression()\n",
    "\n",
    "# Fitting model on training data\n",
    "model.fit(x_train_poly_n,y_train)\n",
    "\n",
    "# Predicting train data\n",
    "ypred_train= model.predict(x_train_poly_n)\n",
    "\n",
    "# Evaluation of train data\n",
    "from sklearn.metrics import r2_score\n",
    "print('Train R2 score is ',r2_score(y_train,ypred_train))\n",
    "\n",
    "from sklearn.model_selection import cross_val_score\n",
    "print('Cross Validation score is ',cross_val_score(model,x_train_poly_n,y_train,cv=5).mean())\n",
    "\n",
    "# Predicting test data\n",
    "\n",
    "# First we must transform the X_test to polynomial degree used for training\n",
    "\n",
    "x_test_poly_n=pd.DataFrame(polynomial_converter.transform(X_test))\n",
    "ypred_test=model.predict(x_test_poly_n)\n",
    "\n",
    "# Evaluation of test data\n",
    "\n",
    "print('Test R2 score is ',r2_score(y_test,ypred_test))"
   ]
  },
  {
   "cell_type": "code",
   "execution_count": 27,
   "id": "4bcfd3b0",
   "metadata": {},
   "outputs": [
    {
     "data": {
      "text/html": [
       "<table class=\"simpletable\">\n",
       "<caption>OLS Regression Results</caption>\n",
       "<tr>\n",
       "  <th>Dep. Variable:</th>         <td>y_train</td>     <th>  R-squared:         </th> <td>   0.813</td> \n",
       "</tr>\n",
       "<tr>\n",
       "  <th>Model:</th>                   <td>OLS</td>       <th>  Adj. R-squared:    </th> <td>   0.811</td> \n",
       "</tr>\n",
       "<tr>\n",
       "  <th>Method:</th>             <td>Least Squares</td>  <th>  F-statistic:       </th> <td>   428.0</td> \n",
       "</tr>\n",
       "<tr>\n",
       "  <th>Date:</th>             <td>Tue, 16 Jul 2024</td> <th>  Prob (F-statistic):</th> <td>4.07e-142</td>\n",
       "</tr>\n",
       "<tr>\n",
       "  <th>Time:</th>                 <td>09:46:37</td>     <th>  Log-Likelihood:    </th> <td>  552.59</td> \n",
       "</tr>\n",
       "<tr>\n",
       "  <th>No. Observations:</th>      <td>   400</td>      <th>  AIC:               </th> <td>  -1095.</td> \n",
       "</tr>\n",
       "<tr>\n",
       "  <th>Df Residuals:</th>          <td>   395</td>      <th>  BIC:               </th> <td>  -1075.</td> \n",
       "</tr>\n",
       "<tr>\n",
       "  <th>Df Model:</th>              <td>     4</td>      <th>                     </th>     <td> </td>    \n",
       "</tr>\n",
       "<tr>\n",
       "  <th>Covariance Type:</th>      <td>nonrobust</td>    <th>                     </th>     <td> </td>    \n",
       "</tr>\n",
       "</table>\n",
       "<table class=\"simpletable\">\n",
       "<tr>\n",
       "       <td></td>         <th>coef</th>     <th>std err</th>      <th>t</th>      <th>P>|t|</th>  <th>[0.025</th>    <th>0.975]</th>  \n",
       "</tr>\n",
       "<tr>\n",
       "  <th>Intercept</th>  <td>   -1.0381</td> <td>    0.063</td> <td>  -16.378</td> <td> 0.000</td> <td>   -1.163</td> <td>   -0.913</td>\n",
       "</tr>\n",
       "<tr>\n",
       "  <th>X_train[0]</th> <td>    0.0049</td> <td>    0.001</td> <td>    5.855</td> <td> 0.000</td> <td>    0.003</td> <td>    0.007</td>\n",
       "</tr>\n",
       "<tr>\n",
       "  <th>X_train[1]</th> <td>    0.0177</td> <td>    0.004</td> <td>    4.139</td> <td> 0.000</td> <td>    0.009</td> <td>    0.026</td>\n",
       "</tr>\n",
       "<tr>\n",
       "  <th>X_train[2]</th> <td>    0.1343</td> <td>    0.009</td> <td>   14.196</td> <td> 0.000</td> <td>    0.116</td> <td>    0.153</td>\n",
       "</tr>\n",
       "<tr>\n",
       "  <th>X_train[3]</th> <td>    0.0347</td> <td>    0.007</td> <td>    4.854</td> <td> 0.000</td> <td>    0.021</td> <td>    0.049</td>\n",
       "</tr>\n",
       "</table>\n",
       "<table class=\"simpletable\">\n",
       "<tr>\n",
       "  <th>Omnibus:</th>       <td>75.892</td> <th>  Durbin-Watson:     </th> <td>   2.076</td>\n",
       "</tr>\n",
       "<tr>\n",
       "  <th>Prob(Omnibus):</th> <td> 0.000</td> <th>  Jarque-Bera (JB):  </th> <td> 144.869</td>\n",
       "</tr>\n",
       "<tr>\n",
       "  <th>Skew:</th>          <td>-1.042</td> <th>  Prob(JB):          </th> <td>3.48e-32</td>\n",
       "</tr>\n",
       "<tr>\n",
       "  <th>Kurtosis:</th>      <td> 5.085</td> <th>  Cond. No.          </th> <td>2.24e+03</td>\n",
       "</tr>\n",
       "</table><br/><br/>Notes:<br/>[1] Standard Errors assume that the covariance matrix of the errors is correctly specified.<br/>[2] The condition number is large, 2.24e+03. This might indicate that there are<br/>strong multicollinearity or other numerical problems."
      ],
      "text/latex": [
       "\\begin{center}\n",
       "\\begin{tabular}{lclc}\n",
       "\\toprule\n",
       "\\textbf{Dep. Variable:}    &     y\\_train     & \\textbf{  R-squared:         } &     0.813   \\\\\n",
       "\\textbf{Model:}            &       OLS        & \\textbf{  Adj. R-squared:    } &     0.811   \\\\\n",
       "\\textbf{Method:}           &  Least Squares   & \\textbf{  F-statistic:       } &     428.0   \\\\\n",
       "\\textbf{Date:}             & Tue, 16 Jul 2024 & \\textbf{  Prob (F-statistic):} & 4.07e-142   \\\\\n",
       "\\textbf{Time:}             &     09:46:37     & \\textbf{  Log-Likelihood:    } &    552.59   \\\\\n",
       "\\textbf{No. Observations:} &         400      & \\textbf{  AIC:               } &    -1095.   \\\\\n",
       "\\textbf{Df Residuals:}     &         395      & \\textbf{  BIC:               } &    -1075.   \\\\\n",
       "\\textbf{Df Model:}         &           4      & \\textbf{                     } &             \\\\\n",
       "\\textbf{Covariance Type:}  &    nonrobust     & \\textbf{                     } &             \\\\\n",
       "\\bottomrule\n",
       "\\end{tabular}\n",
       "\\begin{tabular}{lcccccc}\n",
       "                     & \\textbf{coef} & \\textbf{std err} & \\textbf{t} & \\textbf{P$> |$t$|$} & \\textbf{[0.025} & \\textbf{0.975]}  \\\\\n",
       "\\midrule\n",
       "\\textbf{Intercept}   &      -1.0381  &        0.063     &   -16.378  &         0.000        &       -1.163    &       -0.913     \\\\\n",
       "\\textbf{X\\_train[0]} &       0.0049  &        0.001     &     5.855  &         0.000        &        0.003    &        0.007     \\\\\n",
       "\\textbf{X\\_train[1]} &       0.0177  &        0.004     &     4.139  &         0.000        &        0.009    &        0.026     \\\\\n",
       "\\textbf{X\\_train[2]} &       0.1343  &        0.009     &    14.196  &         0.000        &        0.116    &        0.153     \\\\\n",
       "\\textbf{X\\_train[3]} &       0.0347  &        0.007     &     4.854  &         0.000        &        0.021    &        0.049     \\\\\n",
       "\\bottomrule\n",
       "\\end{tabular}\n",
       "\\begin{tabular}{lclc}\n",
       "\\textbf{Omnibus:}       & 75.892 & \\textbf{  Durbin-Watson:     } &    2.076  \\\\\n",
       "\\textbf{Prob(Omnibus):} &  0.000 & \\textbf{  Jarque-Bera (JB):  } &  144.869  \\\\\n",
       "\\textbf{Skew:}          & -1.042 & \\textbf{  Prob(JB):          } & 3.48e-32  \\\\\n",
       "\\textbf{Kurtosis:}      &  5.085 & \\textbf{  Cond. No.          } & 2.24e+03  \\\\\n",
       "\\bottomrule\n",
       "\\end{tabular}\n",
       "%\\caption{OLS Regression Results}\n",
       "\\end{center}\n",
       "\n",
       "Notes: \\newline\n",
       " [1] Standard Errors assume that the covariance matrix of the errors is correctly specified. \\newline\n",
       " [2] The condition number is large, 2.24e+03. This might indicate that there are \\newline\n",
       " strong multicollinearity or other numerical problems."
      ],
      "text/plain": [
       "<class 'statsmodels.iolib.summary.Summary'>\n",
       "\"\"\"\n",
       "                            OLS Regression Results                            \n",
       "==============================================================================\n",
       "Dep. Variable:                y_train   R-squared:                       0.813\n",
       "Model:                            OLS   Adj. R-squared:                  0.811\n",
       "Method:                 Least Squares   F-statistic:                     428.0\n",
       "Date:                Tue, 16 Jul 2024   Prob (F-statistic):          4.07e-142\n",
       "Time:                        09:46:37   Log-Likelihood:                 552.59\n",
       "No. Observations:                 400   AIC:                            -1095.\n",
       "Df Residuals:                     395   BIC:                            -1075.\n",
       "Df Model:                           4                                         \n",
       "Covariance Type:            nonrobust                                         \n",
       "==============================================================================\n",
       "                 coef    std err          t      P>|t|      [0.025      0.975]\n",
       "------------------------------------------------------------------------------\n",
       "Intercept     -1.0381      0.063    -16.378      0.000      -1.163      -0.913\n",
       "X_train[0]     0.0049      0.001      5.855      0.000       0.003       0.007\n",
       "X_train[1]     0.0177      0.004      4.139      0.000       0.009       0.026\n",
       "X_train[2]     0.1343      0.009     14.196      0.000       0.116       0.153\n",
       "X_train[3]     0.0347      0.007      4.854      0.000       0.021       0.049\n",
       "==============================================================================\n",
       "Omnibus:                       75.892   Durbin-Watson:                   2.076\n",
       "Prob(Omnibus):                  0.000   Jarque-Bera (JB):              144.869\n",
       "Skew:                          -1.042   Prob(JB):                     3.48e-32\n",
       "Kurtosis:                       5.085   Cond. No.                     2.24e+03\n",
       "==============================================================================\n",
       "\n",
       "Notes:\n",
       "[1] Standard Errors assume that the covariance matrix of the errors is correctly specified.\n",
       "[2] The condition number is large, 2.24e+03. This might indicate that there are\n",
       "strong multicollinearity or other numerical problems.\n",
       "\"\"\""
      ]
     },
     "execution_count": 27,
     "metadata": {},
     "output_type": "execute_result"
    }
   ],
   "source": [
    "df_train,df_test=train_test_split(df,test_size=0.2,random_state=42)\n",
    "model_ols=ols('y_train~X_train',data=df_train).fit()\n",
    "model_ols.summary()"
   ]
  },
  {
   "cell_type": "markdown",
   "id": "8e1fb017",
   "metadata": {},
   "source": [
    "# Assumptions ( Failed)\n",
    "### Linearity of Errors"
   ]
  },
  {
   "cell_type": "code",
   "execution_count": 34,
   "id": "c8b62e5d",
   "metadata": {},
   "outputs": [
    {
     "data": {
      "image/png": "[encoded data removed]",
      "text/plain": [
       "<Figure size 640x480 with 1 Axes>"
      ]
     },
     "metadata": {},
     "output_type": "display_data"
    }
   ],
   "source": [
    "train_error=y_train-ypred_train\n",
    "\n",
    "sns.scatterplot(y=train_error,x=y_train,data=df_train)\n",
    "plt.xlabel('Observed values(y_train)')\n",
    "plt.ylabel('Training Residuals(errors)')\n",
    "plt.show()"
   ]
  },
  {
   "cell_type": "markdown",
   "id": "f945334a",
   "metadata": {},
   "source": [
    "### Normality of Errors"
   ]
  },
  {
   "cell_type": "code",
   "execution_count": 35,
   "id": "8c45a4e7",
   "metadata": {},
   "outputs": [
    {
     "data": {
      "text/plain": [
       "-1.0539031000041792"
      ]
     },
     "execution_count": 35,
     "metadata": {},
     "output_type": "execute_result"
    }
   ],
   "source": [
    "train_error.skew()"
   ]
  },
  {
   "cell_type": "raw",
   "id": "52c6413b",
   "metadata": {},
   "source": []
  },
  {
   "cell_type": "code",
   "execution_count": null,
   "id": "72c4bc8e",
   "metadata": {},
   "outputs": [],
   "source": []
  },
  {
   "cell_type": "markdown",
   "id": "6f082a5c",
   "metadata": {},
   "source": [
    "## Predict on future data"
   ]
  },
  {
   "cell_type": "code",
   "execution_count": 29,
   "id": "2b2503c8",
   "metadata": {},
   "outputs": [
    {
     "data": {
      "text/html": [
       "<div>\n",
       "<style scoped>\n",
       "    .dataframe tbody tr th:only-of-type {\n",
       "        vertical-align: middle;\n",
       "    }\n",
       "\n",
       "    .dataframe tbody tr th {\n",
       "        vertical-align: top;\n",
       "    }\n",
       "\n",
       "    .dataframe thead th {\n",
       "        text-align: right;\n",
       "    }\n",
       "</style>\n",
       "<table border=\"1\" class=\"dataframe\">\n",
       "  <thead>\n",
       "    <tr style=\"text-align: right;\">\n",
       "      <th></th>\n",
       "      <th>GRE Score</th>\n",
       "      <th>TOEFL Score</th>\n",
       "      <th>University Rating</th>\n",
       "      <th>SOP</th>\n",
       "      <th>LOR</th>\n",
       "      <th>CGPA</th>\n",
       "      <th>Research</th>\n",
       "    </tr>\n",
       "  </thead>\n",
       "  <tbody>\n",
       "    <tr>\n",
       "      <th>0</th>\n",
       "      <td>307</td>\n",
       "      <td>110</td>\n",
       "      <td>4.5</td>\n",
       "      <td>3.5</td>\n",
       "      <td>4.0</td>\n",
       "      <td>8.03</td>\n",
       "      <td>0</td>\n",
       "    </tr>\n",
       "  </tbody>\n",
       "</table>\n",
       "</div>"
      ],
      "text/plain": [
       "   GRE Score  TOEFL Score  University Rating  SOP  LOR  CGPA  Research\n",
       "0        307          110                4.5  3.5  4.0  8.03         0"
      ]
     },
     "execution_count": 29,
     "metadata": {},
     "output_type": "execute_result"
    }
   ],
   "source": [
    "new_test={'GRE Score':307,'TOEFL Score':110, 'University Rating':4.5, 'SOP':3.5, 'LOR':4.0, 'CGPA':8.03,\n",
    "       'Research':0}\n",
    "\n",
    "new_df=pd.DataFrame(new_test,[0])\n",
    "new_df"
   ]
  },
  {
   "cell_type": "code",
   "execution_count": 30,
   "id": "d92733d1",
   "metadata": {},
   "outputs": [],
   "source": [
    "new_df.drop(['GRE Score','University Rating','SOP'],axis=1,inplace=True)"
   ]
  },
  {
   "cell_type": "code",
   "execution_count": 31,
   "id": "e880afdf",
   "metadata": {},
   "outputs": [],
   "source": [
    "new_df_poly_n=pd.DataFrame(polynomial_converter.transform(new_df))"
   ]
  },
  {
   "cell_type": "code",
   "execution_count": 32,
   "id": "d4f95189",
   "metadata": {},
   "outputs": [
    {
     "data": {
      "text/plain": [
       "66.43717312073716"
      ]
     },
     "execution_count": 32,
     "metadata": {},
     "output_type": "execute_result"
    }
   ],
   "source": [
    "model.predict(new_df_poly_n).tolist()[0]*100"
   ]
  },
  {
   "cell_type": "markdown",
   "id": "15013e72",
   "metadata": {},
   "source": [
    "#### Accuracy is 82.36 BUT assumptions failed\n"
   ]
  },
  {
   "cell_type": "markdown",
   "id": "94504b54",
   "metadata": {},
   "source": [
    "# Lets try applying regularizations"
   ]
  }
 ],
 "metadata": {
  "kernelspec": {
   "display_name": "Python 3 (ipykernel)",
   "language": "python",
   "name": "python3"
  },
  "language_info": {
   "codemirror_mode": {
    "name": "ipython",
    "version": 3
   },
   "file_extension": ".py",
   "mimetype": "text/x-python",
   "name": "python",
   "nbconvert_exporter": "python",
   "pygments_lexer": "ipython3",
   "version": "3.12.7"
  }
 },
 "nbformat": 4,
 "nbformat_minor": 5
}
